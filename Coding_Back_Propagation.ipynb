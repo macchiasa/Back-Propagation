{
  "nbformat": 4,
  "nbformat_minor": 0,
  "metadata": {
    "colab": {
      "provenance": []
    },
    "kernelspec": {
      "name": "python3",
      "display_name": "Python 3"
    },
    "language_info": {
      "name": "python"
    }
  },
  "cells": [
    {
      "cell_type": "markdown",
      "source": [
        "Tugas Coding Back Propagation Fisika Komputasi\n",
        "\n",
        "Anggota 1: Fajris Zahrotun Nihayah (10220010)\n",
        "\n",
        "Anggota 2: Ariel Graham (10220065)\n",
        "\n",
        "\n",
        "Akan dibuat program untuk menghitung besaran *weights* yang baru dari input [0, 1] dan untuk output sebesar 1 dengan *learning rate* sebesar 0.25 dan menggunakan fungsi aktivasi sigmoid."
      ],
      "metadata": {
        "id": "jcNG9j9IQPRW"
      }
    },
    {
      "cell_type": "code",
      "execution_count": 1,
      "metadata": {
        "id": "w7nphCH4P6BU"
      },
      "outputs": [],
      "source": [
        "import numpy as np"
      ]
    },
    {
      "cell_type": "code",
      "source": [
        "w = [[0.6, -0.1, 0.3], [-0.3, 0.4, 0.5], [0.4, 0.1, -0.2]]\n",
        "x = np.array([0,1,0])\n",
        "b = np.array([0,0,1]) #bias\n",
        "x+b == np.add(x,b)\n",
        "a = 0.25 #learning rate\n",
        "k = 1 #target output"
      ],
      "metadata": {
        "id": "mz-oVJhzSH2Y"
      },
      "execution_count": 2,
      "outputs": []
    },
    {
      "cell_type": "code",
      "source": [
        "# Fungsi aktivasi sigmoid\n",
        "def sigmoid(n):\n",
        "  return 1/(1+np.exp(-1*n))\n",
        "\n"
      ],
      "metadata": {
        "id": "aFlK0QOXYPQv"
      },
      "execution_count": 3,
      "outputs": []
    },
    {
      "cell_type": "code",
      "source": [
        "# Derivative dari fungsi sigmoid\n",
        "\n",
        "def sigmoid_nd(n):\n",
        "  return sigmoid(n)*(1-sigmoid(n))"
      ],
      "metadata": {
        "id": "unh_gl0VYgEW"
      },
      "execution_count": 4,
      "outputs": []
    },
    {
      "cell_type": "code",
      "source": [
        "# Perhitungan nilai input Z\n",
        "input = np.zeros(3)\n",
        "for i in range(2):\n",
        "  for j in range(3):\n",
        "    input[i] = input[i]+w[i][j]*(x+b)[j]\n",
        "input"
      ],
      "metadata": {
        "id": "oBseJd8VYtoC",
        "colab": {
          "base_uri": "https://localhost:8080/"
        },
        "outputId": "8972e0c5-fdbe-4464-e0fb-64744d3dd79c"
      },
      "execution_count": 5,
      "outputs": [
        {
          "output_type": "execute_result",
          "data": {
            "text/plain": [
              "array([0.2, 0.9, 0. ])"
            ]
          },
          "metadata": {},
          "execution_count": 5
        }
      ]
    },
    {
      "cell_type": "code",
      "source": [
        "# Perhitungan nilai output Z\n",
        "output = np.zeros(3)\n",
        "for i in range(2):\n",
        "  output[i] = sigmoid(input[i])\n",
        "output"
      ],
      "metadata": {
        "id": "v9QOgsl7ZCzi",
        "colab": {
          "base_uri": "https://localhost:8080/"
        },
        "outputId": "1e33d7f5-df1f-492e-d5b7-48049d772c08"
      },
      "execution_count": 6,
      "outputs": [
        {
          "output_type": "execute_result",
          "data": {
            "text/plain": [
              "array([0.549834 , 0.7109495, 0.       ])"
            ]
          },
          "metadata": {},
          "execution_count": 6
        }
      ]
    },
    {
      "cell_type": "code",
      "source": [
        "# Perhitungan nilai input Y\n",
        "for i in range(2):\n",
        "  input[2] = input[2] + output[i]*w[2][i]\n",
        "  input [2] = input[2] + x[2]*w[2][2]\n",
        "input[2]"
      ],
      "metadata": {
        "id": "7Yp2qFDOZOLQ",
        "colab": {
          "base_uri": "https://localhost:8080/"
        },
        "outputId": "3614a65b-3eb0-4143-e7da-7fa2b21ff99c"
      },
      "execution_count": 10,
      "outputs": [
        {
          "output_type": "execute_result",
          "data": {
            "text/plain": [
              "0.5820570983749832"
            ]
          },
          "metadata": {},
          "execution_count": 10
        }
      ]
    },
    {
      "cell_type": "code",
      "source": [
        "# Perhitungan nilai output Y\n",
        "output[2] = sigmoid(input[2])\n",
        "output[2]"
      ],
      "metadata": {
        "id": "zOt8o8Z-ZnG_",
        "colab": {
          "base_uri": "https://localhost:8080/"
        },
        "outputId": "15696552-767b-46ac-89c6-e6ff9fb4ea72"
      },
      "execution_count": 11,
      "outputs": [
        {
          "output_type": "execute_result",
          "data": {
            "text/plain": [
              "0.6415406071590964"
            ]
          },
          "metadata": {},
          "execution_count": 11
        }
      ]
    },
    {
      "cell_type": "code",
      "source": [
        "# Perhitungan nilai d (delta)\n",
        "d = np.zeros(3)\n",
        "d[2] = (k-output[2])*sigmoid_nd(input[2])\n",
        "d[2]"
      ],
      "metadata": {
        "id": "xS4UXXFiZtXE",
        "colab": {
          "base_uri": "https://localhost:8080/"
        },
        "outputId": "230ce4b5-c27a-4466-9e4d-7653492a3a6d"
      },
      "execution_count": 12,
      "outputs": [
        {
          "output_type": "execute_result",
          "data": {
            "text/plain": [
              "0.08243356468785928"
            ]
          },
          "metadata": {},
          "execution_count": 12
        }
      ]
    },
    {
      "cell_type": "code",
      "source": [
        "# Perhitungan dw (perubahan weight)\n",
        "dw = np.zeros((3,3))\n",
        "\n",
        "# Untuk baris ketiga\n",
        "for i in range(2):\n",
        "  dw[2][i] = d[2]*a*output[i]\n",
        "dw[2][2] = d[2]*a*(x+b)[2]\n",
        "dw\n",
        "\n",
        "# Untuk baris pertama dan kedua\n",
        "for i in range(2):\n",
        "  d[i] = d[2]*w[2][i]*sigmoid_nd(input[i])\n",
        "d"
      ],
      "metadata": {
        "id": "zCuwJ05MZ74D",
        "colab": {
          "base_uri": "https://localhost:8080/"
        },
        "outputId": "5c4e47c8-a58a-4b99-d95a-e4574d194123"
      },
      "execution_count": 13,
      "outputs": [
        {
          "output_type": "execute_result",
          "data": {
            "text/plain": [
              "array([0.00816147, 0.00169401, 0.08243356])"
            ]
          },
          "metadata": {},
          "execution_count": 13
        }
      ]
    },
    {
      "cell_type": "code",
      "source": [
        "# Untuk perubahan weights yang lain\n",
        "for i in range(2):\n",
        "  for i in range(3):\n",
        "    dw[i][j] = d[i]*a*(x+b)[j]\n",
        "dw"
      ],
      "metadata": {
        "id": "hY2ThDfocO5B",
        "colab": {
          "base_uri": "https://localhost:8080/"
        },
        "outputId": "05a091a3-84d1-459b-d6d6-eb3339770e07"
      },
      "execution_count": 14,
      "outputs": [
        {
          "output_type": "execute_result",
          "data": {
            "text/plain": [
              "array([[0.        , 0.        , 0.00204037],\n",
              "       [0.        , 0.        , 0.0004235 ],\n",
              "       [0.01133119, 0.01465153, 0.02060839]])"
            ]
          },
          "metadata": {},
          "execution_count": 14
        }
      ]
    },
    {
      "cell_type": "code",
      "source": [
        "# Perhitungan untuk mencari weights baru\n",
        "for i in range(2):\n",
        "  for i in range(3):\n",
        "    w[i][j] = w[i][j] + dw[i][j]\n",
        "w"
      ],
      "metadata": {
        "id": "2anUtR36cYv0",
        "colab": {
          "base_uri": "https://localhost:8080/"
        },
        "outputId": "7ef8a0b3-aeb2-4096-ba79-7ef3a2dde548"
      },
      "execution_count": 15,
      "outputs": [
        {
          "output_type": "execute_result",
          "data": {
            "text/plain": [
              "[[0.6, -0.1, 0.3040807346815921],\n",
              " [-0.3, 0.4, 0.5008470061439336],\n",
              " [0.4, 0.1, -0.15878321765607034]]"
            ]
          },
          "metadata": {},
          "execution_count": 15
        }
      ]
    }
  ]
}